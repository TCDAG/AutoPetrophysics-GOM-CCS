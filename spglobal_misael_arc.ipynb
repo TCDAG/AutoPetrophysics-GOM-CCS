{
 "cells": [
  {
   "cell_type": "markdown",
   "metadata": {},
   "source": [
    "## S&P Global - CORE2LOG: AUTOMATIC ROCK CLASSIFICATION\n",
    "### Misael M. Morales, Carlos Torres-Verdin, and Michael Pyrcz, UT-Austin; Murray Christie, Vladimir Rabinovich, S&P Global\n",
    "#### 2024, Digital Reservoir Characterization Technology (DiReCT)\n",
    "***"
   ]
  },
  {
   "cell_type": "code",
   "execution_count": null,
   "metadata": {},
   "outputs": [],
   "source": [
    "from auto_rock_classification import *\n",
    "arc = RockClassification(well_number=623, method='gmm')\n",
    "arc.run_dashboard()"
   ]
  },
  {
   "cell_type": "markdown",
   "metadata": {},
   "source": [
    "***\n",
    "# END"
   ]
  },
  {
   "cell_type": "code",
   "execution_count": 4,
   "metadata": {},
   "outputs": [
    {
     "name": "stdout",
     "output_type": "stream",
     "text": [
      "All data shape: (102797, 88)\n",
      "Total number of wells: 1379\n"
     ]
    }
   ],
   "source": [
    "from auto_rock_classification import *\n",
    "\n",
    "postprocess_dfs = []\n",
    "\n",
    "arc = RockClassification(method='gmm', n_classes=3)\n",
    "arc.bigloader()\n",
    "\n",
    "for i in range(1379):\n",
    "    arc.well_number = i\n",
    "    arc.preprocessing(header=False)\n",
    "    arc.calculate_method_clf()\n",
    "    df = arc.d.copy()\n",
    "    df['UWI'] = arc.uwi_clean[i]\n",
    "    df['INTERVAL_DEPTH'] = arc.d.index\n",
    "    df.to_csv('Data/UT Export core classification/{}.csv'.format(arc.uwi_clean[i]), index=False)\n",
    "    postprocess_dfs.append(df)\n",
    "\n",
    "postprocess_df = pd.concat(postprocess_dfs, ignore_index=True)\n",
    "postprocess_df.to_csv('Data/Core2Log_RockClassification_all.csv', index=False)"
   ]
  },
  {
   "cell_type": "code",
   "execution_count": null,
   "metadata": {},
   "outputs": [],
   "source": [
    "postprocess_df"
   ]
  },
  {
   "cell_type": "code",
   "execution_count": null,
   "metadata": {},
   "outputs": [],
   "source": []
  }
 ],
 "metadata": {
  "kernelspec": {
   "display_name": "tfenv13",
   "language": "python",
   "name": "python3"
  },
  "language_info": {
   "codemirror_mode": {
    "name": "ipython",
    "version": 3
   },
   "file_extension": ".py",
   "mimetype": "text/x-python",
   "name": "python",
   "nbconvert_exporter": "python",
   "pygments_lexer": "ipython3",
   "version": "3.10.13"
  }
 },
 "nbformat": 4,
 "nbformat_minor": 2
}
