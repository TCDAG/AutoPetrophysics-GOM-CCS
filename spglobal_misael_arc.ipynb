{
 "cells": [
  {
   "cell_type": "markdown",
   "metadata": {},
   "source": [
    "## S&P Global - CORE2LOG: AUTOMATIC ROCK CLASSIFICATION\n",
    "### Misael M. Morales, Oriyomi Raheem, Carlos Torres-Verdin, and Michael Pyrcz, UT-Austin; Murray Christie, Vladimir Rabinovich, S&P Global\n",
    "#### 2024, Digital Reservoir Characterization Technology (DiReCT)\n",
    "***"
   ]
  },
  {
   "cell_type": "code",
   "execution_count": null,
   "metadata": {},
   "outputs": [],
   "source": [
    "from auto_rock_classification import *"
   ]
  },
  {
   "cell_type": "code",
   "execution_count": null,
   "metadata": {},
   "outputs": [],
   "source": [
    "# RUN PROCESSING\n",
    "# this module will load the Core data for all wells, and do:\n",
    "# (1) filter the wells based on the minimum number of core points specified\n",
    "# (2) apply a clustering technique to estimate the rock classes along the well\n",
    "# (3) save the results of the predicted classes in a csv file for all wells\n",
    "RockClassification(minpts=30, method='gmm', n_classes=3).run_processing()"
   ]
  },
  {
   "cell_type": "code",
   "execution_count": null,
   "metadata": {},
   "outputs": [],
   "source": [
    "# RUN DASHBOARD\n",
    "# this module will load the Core2Log Rock Classification dashboard:\n",
    "# (1) specify the well to analyze\n",
    "# (2) specify the rock classification technique to use\n",
    "#   (2a) if the technique is physics-based: specify cutoffs\n",
    "#   (2b) if the technique is ML-based: specify the number of classes\n",
    "# (3) run the dashboard to visualize results\n",
    "RockClassification(minpts=2, well_number=0, method='bisectkmeans', n_classes=3).run_dashboard(maketitle=False)"
   ]
  },
  {
   "cell_type": "code",
   "execution_count": null,
   "metadata": {},
   "outputs": [],
   "source": [
    "# COMPARISON\n",
    "# compare all techniques for a given well (user must define cutoffs and n_classes accordingly)\n",
    "RockClassification(minpts=30, well_number=1104).run_comparison(n_classes=3, \n",
    "                                                    leverett_cutoffs=[10,20,40], \n",
    "                                                    winland_cutoffs=[150,300,500], \n",
    "                                                    lorenz_cutoffs=[0.5,2,5])"
   ]
  },
  {
   "cell_type": "markdown",
   "metadata": {},
   "source": [
    "***\n",
    "# END"
   ]
  },
  {
   "cell_type": "code",
   "execution_count": 4,
   "metadata": {},
   "outputs": [],
   "source": [
    "import pyvista as pv\n",
    "from auto_rock_classification import *"
   ]
  },
  {
   "cell_type": "code",
   "execution_count": 35,
   "metadata": {},
   "outputs": [],
   "source": [
    "folder = 'Data/UT Export core classification'\n",
    "files  = os.listdir(folder)[:100]\n",
    "\n",
    "all_wells = {}\n",
    "all_uwi   = []\n",
    "for i, file in enumerate(files):\n",
    "    df = pd.read_csv('{}/{}'.format(folder, file))\n",
    "\n",
    "    uwi = df['UWI'].values[0]\n",
    "    all_uwi.append(uwi)\n",
    "\n",
    "    lat = df['SURFACE_LATITUDE'].values[0]\n",
    "    lon = df['SURFACE_LONGITUDE'].values[0]\n",
    "\n",
    "    d = df[['INTERVAL_DEPTH','CLASS']]\n",
    "\n",
    "    x = {'LAT':lat, 'LON':lon, 'DAT':d}\n",
    "    all_wells[uwi] = x"
   ]
  },
  {
   "cell_type": "code",
   "execution_count": 36,
   "metadata": {},
   "outputs": [],
   "source": [
    "colors = ['dodgerblue', 'seagreen', 'firebrick', 'gold', 'black']\n",
    "cmap2  = ListedColormap(colors[:len(np.unique(all_wells[all_uwi[0]]['DAT']['CLASS']))])"
   ]
  },
  {
   "cell_type": "code",
   "execution_count": null,
   "metadata": {},
   "outputs": [],
   "source": []
  },
  {
   "cell_type": "code",
   "execution_count": null,
   "metadata": {},
   "outputs": [],
   "source": []
  }
 ],
 "metadata": {
  "kernelspec": {
   "display_name": "tfenv13",
   "language": "python",
   "name": "python3"
  },
  "language_info": {
   "codemirror_mode": {
    "name": "ipython",
    "version": 3
   },
   "file_extension": ".py",
   "mimetype": "text/x-python",
   "name": "python",
   "nbconvert_exporter": "python",
   "pygments_lexer": "ipython3",
   "version": "3.9.10"
  }
 },
 "nbformat": 4,
 "nbformat_minor": 2
}
