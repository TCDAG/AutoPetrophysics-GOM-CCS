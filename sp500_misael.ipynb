{
 "cells": [
  {
   "cell_type": "markdown",
   "metadata": {},
   "source": [
    "## S&P Global - AUTOMATIC BASELINE CORRECTION\n",
    "### Misael M. Morales, Carlos Torres-Verdin, and Michael Pyrcz\n",
    "#### 2024, The University of Texas at Austin\n",
    "***"
   ]
  },
  {
   "cell_type": "code",
   "execution_count": null,
   "metadata": {},
   "outputs": [],
   "source": [
    "from utils import *"
   ]
  },
  {
   "cell_type": "markdown",
   "metadata": {},
   "source": [
    "***\n",
    "# LOG ANALYSIS\n",
    "***"
   ]
  },
  {
   "cell_type": "code",
   "execution_count": null,
   "metadata": {},
   "outputs": [],
   "source": [
    "spl = SPLogAnalysis()"
   ]
  },
  {
   "cell_type": "code",
   "execution_count": null,
   "metadata": {},
   "outputs": [],
   "source": [
    "# ### WARNING: this takes a long time to run, only do it if you need to\n",
    "# headers = spl.read_all_headers()"
   ]
  },
  {
   "cell_type": "code",
   "execution_count": null,
   "metadata": {},
   "outputs": [],
   "source": [
    "spl.plot_ccs_sand_wells(figsize=(8,3))\n",
    "spl.plot_survey(figsize=(10,3))"
   ]
  },
  {
   "cell_type": "code",
   "execution_count": null,
   "metadata": {},
   "outputs": [],
   "source": [
    "well_name = '17700004060000'\n",
    "spl.plot_well(well_name)\n",
    "spl.make_arima(well_name)"
   ]
  },
  {
   "cell_type": "markdown",
   "metadata": {},
   "source": [
    "***\n",
    "# SP BASELINE CORRECTION\n",
    "***"
   ]
  },
  {
   "cell_type": "code",
   "execution_count": null,
   "metadata": {},
   "outputs": [],
   "source": [
    "from utils import *"
   ]
  },
  {
   "cell_type": "code",
   "execution_count": null,
   "metadata": {},
   "outputs": [],
   "source": [
    "blc = BaselineCorrection()"
   ]
  },
  {
   "cell_type": "code",
   "execution_count": null,
   "metadata": {},
   "outputs": [],
   "source": [
    "blc.load_logs(preload=True, showfig=False)"
   ]
  },
  {
   "cell_type": "code",
   "execution_count": null,
   "metadata": {},
   "outputs": [],
   "source": [
    "blc.scale_and_random_split(scaler='standard', showfig=False)"
   ]
  },
  {
   "cell_type": "code",
   "execution_count": null,
   "metadata": {},
   "outputs": [],
   "source": [
    "blc.make_model()"
   ]
  },
  {
   "cell_type": "code",
   "execution_count": null,
   "metadata": {},
   "outputs": [],
   "source": [
    "blc.make_predictions()"
   ]
  },
  {
   "cell_type": "code",
   "execution_count": null,
   "metadata": {},
   "outputs": [],
   "source": [
    "# def calc_uq():\n",
    "#     p5 = data.p5\n",
    "#     p95 = data.p95\n",
    "#     entire_uq = p95 - p5\n"
   ]
  },
  {
   "cell_type": "code",
   "execution_count": null,
   "metadata": {},
   "outputs": [],
   "source": [
    "def calc_csh(well):\n",
    "    # p5(well)\n",
    "    # p95(well)\n",
    "    # csh = (well - well-p5) / (p95 - p5)\n",
    "\n",
    "    csh = (well - well.min()) / (well.max() - well.min())\n",
    "    return csh"
   ]
  },
  {
   "cell_type": "code",
   "execution_count": null,
   "metadata": {},
   "outputs": [],
   "source": [
    "nrows, ncols = 3, 8\n",
    "fig, axs = plt.subplots(nrows, ncols, figsize=(20, 12))\n",
    "data = y_test_pred\n",
    "\n",
    "k, mult = 0, 3\n",
    "for i in range(nrows):\n",
    "    for j in range(ncols):\n",
    "\n",
    "        mask = ~np.isnan(X_test[k,:,0])\n",
    "        index = X_test[k,:,0][mask]\n",
    "        y  = y_test[k][mask]\n",
    "        yh = y_test_pred[k][mask]\n",
    "        csh = calc_csh(yh)\n",
    "\n",
    "        axs[i,j].plot(y, index, c='darkmagenta', label='True Corr.')\n",
    "        axs[i,j].plot(yh, index, c='k', label='Pred Corr.')\n",
    "        ax2 = axs[i,j].twiny()\n",
    "        ax2.plot(csh, index, c='tab:green', label='$C_{sh}$')\n",
    "\n",
    "        axs[i,0].set_ylabel('DEPTH [ft]', weight='bold')\n",
    "        axs[-1,j].set_xlabel('SP [mV]', weight='bold')\n",
    "        axs[i,j].set_xlim(-200, 50)\n",
    "        axs[i,j].grid(True, which='both')\n",
    "        axs[i,j].invert_yaxis()\n",
    "        k += 1*mult\n",
    "\n",
    "plt.tight_layout(); plt.show()"
   ]
  },
  {
   "cell_type": "markdown",
   "metadata": {},
   "source": [
    "***\n",
    "# END"
   ]
  }
 ],
 "metadata": {
  "kernelspec": {
   "display_name": "tfenv13",
   "language": "python",
   "name": "python3"
  },
  "language_info": {
   "codemirror_mode": {
    "name": "ipython",
    "version": 3
   },
   "file_extension": ".py",
   "mimetype": "text/x-python",
   "name": "python",
   "nbconvert_exporter": "python",
   "pygments_lexer": "ipython3",
   "version": "3.10.13"
  }
 },
 "nbformat": 4,
 "nbformat_minor": 2
}
